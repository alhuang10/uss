{
 "cells": [
  {
   "cell_type": "code",
   "execution_count": 1,
   "metadata": {},
   "outputs": [],
   "source": [
    "%load_ext autoreload\n",
    "%autoreload 2"
   ]
  },
  {
   "cell_type": "code",
   "execution_count": 2,
   "metadata": {},
   "outputs": [
    {
     "name": "stderr",
     "output_type": "stream",
     "text": [
      "/home/alexh/miniconda3/envs/uss/lib/python3.8/site-packages/tqdm/auto.py:21: TqdmWarning: IProgress not found. Please update jupyter and ipywidgets. See https://ipywidgets.readthedocs.io/en/stable/user_install.html\n",
      "  from .autonotebook import tqdm as notebook_tqdm\n"
     ]
    }
   ],
   "source": [
    "import librosa\n",
    "import numpy as np\n",
    "\n",
    "from uss.inference import separate"
   ]
  },
  {
   "cell_type": "code",
   "execution_count": 3,
   "metadata": {},
   "outputs": [],
   "source": [
    "def get_normalized_energy(filepath):\n",
    "    data, sample_rate = librosa.load(filepath)\n",
    "\n",
    "\n",
    "    print(type(data))\n",
    "\n",
    "    energy = sum(abs(data**2))\n",
    "\n",
    "\n",
    "    duration = librosa.get_duration(y=data, sr=sample_rate)\n",
    "\n",
    "    print(f\"Duration: {duration}\")\n",
    "    print(len(data) / sample_rate)\n",
    "\n",
    "    normalized_energy = energy / duration\n",
    "    print(\"Normalized energy of the audio file:\", normalized_energy)"
   ]
  },
  {
   "cell_type": "code",
   "execution_count": 4,
   "metadata": {},
   "outputs": [],
   "source": [
    "AUDIO_NO_BACKGROUND_MUSIC = \"/inworld/tts_dataset/podcast_host_audio_combined_filtered/alec_baldwin/wavs/amy_schumer_grew_up_in_a_nude_house/256.wav\""
   ]
  },
  {
   "cell_type": "code",
   "execution_count": 5,
   "metadata": {},
   "outputs": [],
   "source": [
    "MUSIC_AUDIO_FILE = \"/home/alexh/uss/separated_results/0/level=1/Music.wav\"\n",
    "\n",
    "SILNECE_AUDIO_FILE = \"\""
   ]
  },
  {
   "cell_type": "code",
   "execution_count": 6,
   "metadata": {},
   "outputs": [
    {
     "name": "stdout",
     "output_type": "stream",
     "text": [
      "<class 'numpy.ndarray'>\n",
      "Duration: 13.09002267573696\n",
      "13.09002267573696\n",
      "Normalized energy of the audio file: 141.82085281589883\n"
     ]
    }
   ],
   "source": [
    "get_normalized_energy(MUSIC_AUDIO_FILE)"
   ]
  },
  {
   "cell_type": "code",
   "execution_count": 8,
   "metadata": {},
   "outputs": [],
   "source": [
    "class Args:\n",
    "    def __init__(self, audio_path, output_dir):\n",
    "        self.audio_path = audio_path\n",
    "        self.condition_type = \"at_soft\"\n",
    "        self.levels = [1]  # 1 is most coarse level\n",
    "        self.class_ids = []\n",
    "        self.queries_dir = \"\"\n",
    "        self.query_emb_path = \"\"\n",
    "        self.output_dir = output_dir\n",
    "\n",
    "        # config, checkpoint TODO\n",
    "        self.config_yaml = \"./scripts/train/ss_model=resunet30,querynet=at_soft,data=full.yaml\"\n",
    "        self.checkpoint_path = \"pretrained.ckpt\""
   ]
  },
  {
   "cell_type": "code",
   "execution_count": 11,
   "metadata": {},
   "outputs": [
    {
     "name": "stdout",
     "output_type": "stream",
     "text": [
      "Using cpu.\n",
      "Sample rate: 44100\n",
      "Loading model ...\n",
      "Separating ...\n",
      "------ alexLevel 1 ------\n",
      "Human sounds 380.87124790070504\n",
      "Animal 0.0\n",
      "Music 2.032117472275493\n",
      "Natural sounds 0.0\n",
      "Sounds of things 0.0\n",
      "Source-ambiguous sounds 0.0\n",
      "Channel, environment and background 0.0\n"
     ]
    }
   ],
   "source": [
    "args = Args(AUDIO_NO_BACKGROUND_MUSIC, \"uss_output\")\n",
    "\n",
    "separate(args)"
   ]
  },
  {
   "cell_type": "code",
   "execution_count": null,
   "metadata": {},
   "outputs": [],
   "source": [
    "import json"
   ]
  },
  {
   "cell_type": "code",
   "execution_count": 13,
   "metadata": {},
   "outputs": [
    {
     "name": "stdout",
     "output_type": "stream",
     "text": [
      "67781\n"
     ]
    }
   ],
   "source": [
    "with open(\"wav_file_and_label_to_energy_level_adam_carolla.json\", \"r\") as f:\n",
    "    wav_file_and_label_to_energy_level = json.load(f)\n",
    "\n",
    "print(len(wav_file_and_label_to_energy_level))"
   ]
  },
  {
   "cell_type": "code",
   "execution_count": 26,
   "metadata": {},
   "outputs": [],
   "source": [
    "from pprint import pprint\n"
   ]
  },
  {
   "cell_type": "code",
   "execution_count": 29,
   "metadata": {},
   "outputs": [],
   "source": [
    "def print_and_get_ratio(filepath):\n",
    "    item = [x for x in wav_file_and_label_to_energy_level if x[0] == filepath][0]\n",
    "    print(item[0])\n",
    "    pprint(item[1])\n",
    "\n",
    "    print(f\"Human to music ratio: {item[1]['Human sounds'] / item[1]['Music']}\")"
   ]
  },
  {
   "cell_type": "code",
   "execution_count": 28,
   "metadata": {},
   "outputs": [
    {
     "name": "stdout",
     "output_type": "stream",
     "text": [
      "{'Animal': 0.0,\n",
      " 'Channel, environment and background': 0.0,\n",
      " 'Human sounds': 4135.169450043683,\n",
      " 'Music': 3021.0386530763662,\n",
      " 'Natural sounds': 0.0,\n",
      " 'Sounds of things': 0.0,\n",
      " 'Source-ambiguous sounds': 0.0}\n",
      "Human to music ratio: 1.368790646168258\n"
     ]
    }
   ],
   "source": [
    "print_and_get_ratio('/inworld/tts_dataset/podcast_audio_combined/wavs/adam_carolla/wavs/part_1_reenactments_of_jeffrey_toobin_and_orland_brown_incidents/313.wav')"
   ]
  },
  {
   "cell_type": "code",
   "execution_count": 15,
   "metadata": {},
   "outputs": [
    {
     "data": {
      "text/plain": [
       "[['/inworld/tts_dataset/podcast_audio_combined/wavs/adam_carolla/wavs/baltimore_schools_news_and_rotten_tomatoes_game__live_in/263.wav',\n",
       "  {'Human sounds': 207.05128609385244,\n",
       "   'Animal': 0.0,\n",
       "   'Music': 64.58546706960317,\n",
       "   'Natural sounds': 0.0,\n",
       "   'Sounds of things': 0.0,\n",
       "   'Source-ambiguous sounds': 0.0,\n",
       "   'Channel, environment and background': 0.0}]]"
      ]
     },
     "execution_count": 15,
     "metadata": {},
     "output_type": "execute_result"
    }
   ],
   "source": [
    "[x for x in wav_file_and_label_to_energy_level if x[0] == \"/inworld/tts_dataset/podcast_audio_combined/wavs/adam_carolla/wavs/baltimore_schools_news_and_rotten_tomatoes_game__live_in/263.wav\"]"
   ]
  },
  {
   "cell_type": "code",
   "execution_count": 4,
   "metadata": {},
   "outputs": [
    {
     "name": "stdout",
     "output_type": "stream",
     "text": [
      "5219\n"
     ]
    }
   ],
   "source": [
    "music_files = [(x[0], x[1]['Music']) for x in wav_file_and_label_to_energy_level if x[1]['Music'] != 0]\n",
    "\n",
    "print(len(music_files))"
   ]
  },
  {
   "cell_type": "code",
   "execution_count": 5,
   "metadata": {},
   "outputs": [],
   "source": [
    "music_files.sort(key=lambda x: x[1], reverse=True)"
   ]
  },
  {
   "cell_type": "code",
   "execution_count": 6,
   "metadata": {},
   "outputs": [
    {
     "data": {
      "text/plain": [
       "[('/inworld/tts_dataset/podcast_audio_combined/wavs/adam_carolla/wavs/part_1_reenactments_of_jeffrey_toobin_and_orland_brown_incidents/313.wav',\n",
       "  3021.0386530763662),\n",
       " ('/inworld/tts_dataset/podcast_audio_combined/wavs/adam_carolla/wavs/richard_belzer__deep_sea_neptune_societypart_1_carolla_classics/608.wav',\n",
       "  2018.5562217625952),\n",
       " ('/inworld/tts_dataset/podcast_audio_combined/wavs/adam_carolla/wavs/richard_belzer__deep_sea_neptune_societypart_1_carolla_classics/292.wav',\n",
       "  1871.8712980919443),\n",
       " ('/inworld/tts_dataset/podcast_audio_combined/wavs/adam_carolla/wavs/john_mellencamp_toolbox__mark_geragos_part_1_carolla_classics/448.wav',\n",
       "  1653.043576917877),\n",
       " ('/inworld/tts_dataset/podcast_audio_combined/wavs/adam_carolla/wavs/carolla_classics_megans_law_competition__2014_ace_awards/189.wav',\n",
       "  1389.372234507189),\n",
       " ('/inworld/tts_dataset/podcast_audio_combined/wavs/adam_carolla/wavs/part_2_jonathan_kite__schmoes_know_carolla_classics/391.wav',\n",
       "  1300.4807893541677),\n",
       " ('/inworld/tts_dataset/podcast_audio_combined/wavs/adam_carolla/wavs/part_2_hammered_heroes__news_acs_december_5/2.wav',\n",
       "  1238.8761920401325),\n",
       " ('/inworld/tts_dataset/podcast_audio_combined/wavs/adam_carolla/wavs/carolla_classics_megans_law_competition__2014_ace_awards/525.wav',\n",
       "  1222.1397071055117),\n",
       " ('/inworld/tts_dataset/podcast_audio_combined/wavs/adam_carolla/wavs/part_2_2022_ace_awards_acs_december_15/5.wav',\n",
       "  1185.3974222366771),\n",
       " ('/inworld/tts_dataset/podcast_audio_combined/wavs/adam_carolla/wavs/part_2_jay_leno_acs_december_9/11.wav',\n",
       "  1154.6679111022615)]"
      ]
     },
     "execution_count": 6,
     "metadata": {},
     "output_type": "execute_result"
    }
   ],
   "source": [
    "music_files[:10]"
   ]
  },
  {
   "cell_type": "code",
   "execution_count": 45,
   "metadata": {},
   "outputs": [
    {
     "name": "stdout",
     "output_type": "stream",
     "text": [
      "/inworld/tts_dataset/podcast_audio_combined/wavs/adam_carolla/wavs/part_1_masked_singer_reveal__ray_stevens_acs_november/665.wav\n",
      "{'Animal': 383.28991193379125,\n",
      " 'Channel, environment and background': 0.0,\n",
      " 'Human sounds': 913.224255586847,\n",
      " 'Music': 0.005094562077933048,\n",
      " 'Natural sounds': 0.0,\n",
      " 'Sounds of things': 0.0,\n",
      " 'Source-ambiguous sounds': 0.0}\n",
      "Human to music ratio: 179254.71151729647\n",
      "/inworld/tts_dataset/podcast_audio_combined/wavs/adam_carolla/wavs/super_bowl__halftime_show_recap_acs_february_14/78.wav\n",
      "{'Animal': 0.0,\n",
      " 'Channel, environment and background': 0.0,\n",
      " 'Human sounds': 918.7029315522719,\n",
      " 'Music': 0.005073450854961856,\n",
      " 'Natural sounds': 0.0,\n",
      " 'Sounds of things': 0.0,\n",
      " 'Source-ambiguous sounds': 0.0}\n",
      "Human to music ratio: 181080.48305105325\n",
      "/inworld/tts_dataset/podcast_audio_combined/wavs/adam_carolla/wavs/jesse_ventura__the_buried_life_cast_part_2_carolla/380.wav\n",
      "{'Animal': 0.0,\n",
      " 'Channel, environment and background': 0.0,\n",
      " 'Human sounds': 1694.5772259931155,\n",
      " 'Music': 0.004946281902008149,\n",
      " 'Natural sounds': 0.0,\n",
      " 'Sounds of things': 0.0,\n",
      " 'Source-ambiguous sounds': 0.0}\n",
      "Human to music ratio: 342596.1681045982\n",
      "/inworld/tts_dataset/podcast_audio_combined/wavs/adam_carolla/wavs/locker_room_nudity_mormon_sex_loopholes_and_new_nfl_rule/585.wav\n",
      "{'Animal': 0.0,\n",
      " 'Channel, environment and background': 0.0,\n",
      " 'Human sounds': 963.9557834038807,\n",
      " 'Music': 0.004900994790038826,\n",
      " 'Natural sounds': 0.0,\n",
      " 'Sounds of things': 0.0,\n",
      " 'Source-ambiguous sounds': 0.0}\n",
      "Human to music ratio: 196685.73926320052\n",
      "/inworld/tts_dataset/podcast_audio_combined/wavs/adam_carolla/wavs/carolla_classics_2017_ace_awards__rowdy_roddy_piper/387.wav\n",
      "{'Animal': 0.0,\n",
      " 'Channel, environment and background': 0.0,\n",
      " 'Human sounds': 441.0157857477395,\n",
      " 'Music': 0.004725211820842155,\n",
      " 'Natural sounds': 0.0,\n",
      " 'Sounds of things': 0.0,\n",
      " 'Source-ambiguous sounds': 0.0}\n",
      "Human to music ratio: 93332.49015472477\n",
      "/inworld/tts_dataset/podcast_audio_combined/wavs/adam_carolla/wavs/dallas_hockey_fan_fight_toronto_mayor_scandal_and_oscar_meyer/599.wav\n",
      "{'Animal': 0.0,\n",
      " 'Channel, environment and background': 0.0,\n",
      " 'Human sounds': 1092.5904726726328,\n",
      " 'Music': 0.0047208724860997135,\n",
      " 'Natural sounds': 0.0,\n",
      " 'Sounds of things': 0.0,\n",
      " 'Source-ambiguous sounds': 1.6047611079304427e-08}\n",
      "Human to music ratio: 231438.25127446055\n",
      "/inworld/tts_dataset/podcast_audio_combined/wavs/adam_carolla/wavs/fight_preview_with_bernard_hopkins_shawn_porter_and_rj_bell/256.wav\n",
      "{'Animal': 22.01410778617704,\n",
      " 'Channel, environment and background': 0.0,\n",
      " 'Human sounds': 552.0432962744924,\n",
      " 'Music': 0.004713556009171506,\n",
      " 'Natural sounds': 0.0,\n",
      " 'Sounds of things': 0.0,\n",
      " 'Source-ambiguous sounds': 0.0}\n",
      "Human to music ratio: 117118.22140234291\n",
      "/inworld/tts_dataset/podcast_audio_combined/wavs/adam_carolla/wavs/part_1_cousin_sal_and_james_babydoll_dixon_carolla_classics/274.wav\n",
      "{'Animal': 0.0,\n",
      " 'Channel, environment and background': 0.0,\n",
      " 'Human sounds': 129.66277951517498,\n",
      " 'Music': 0.004681129629002039,\n",
      " 'Natural sounds': 0.0,\n",
      " 'Sounds of things': 0.0,\n",
      " 'Source-ambiguous sounds': 0.0}\n",
      "Human to music ratio: 27699.03629923992\n",
      "/inworld/tts_dataset/podcast_audio_combined/wavs/adam_carolla/wavs/jesse_ventura__the_buried_life_cast_part_2_carolla/305.wav\n",
      "{'Animal': 0.0,\n",
      " 'Channel, environment and background': 0.0,\n",
      " 'Human sounds': 786.2754303429397,\n",
      " 'Music': 0.004679895423598653,\n",
      " 'Natural sounds': 0.0,\n",
      " 'Sounds of things': 0.0,\n",
      " 'Source-ambiguous sounds': 0.0}\n",
      "Human to music ratio: 168011.32486382042\n",
      "/inworld/tts_dataset/podcast_audio_combined/wavs/adam_carolla/wavs/sb_predictions_soft_talk_radio__woodpecker_hoarders_acs_february/1161.wav\n",
      "{'Animal': 0.0,\n",
      " 'Channel, environment and background': 0.0,\n",
      " 'Human sounds': 1093.7757399265365,\n",
      " 'Music': 0.004616940249296057,\n",
      " 'Natural sounds': 0.0,\n",
      " 'Sounds of things': 0.0,\n",
      " 'Source-ambiguous sounds': 0.0}\n",
      "Human to music ratio: 236904.89390528805\n"
     ]
    }
   ],
   "source": [
    "for m in music_files[5000:5010]:\n",
    "    print_and_get_ratio(m[0])"
   ]
  },
  {
   "cell_type": "code",
   "execution_count": 12,
   "metadata": {},
   "outputs": [
    {
     "name": "stdout",
     "output_type": "stream",
     "text": [
      "('/inworld/tts_dataset/podcast_audio_combined/wavs/adam_carolla/wavs/part_1_jay_lenos_accident__joel_stein_acs_november/269.wav', 65.13445218999314)\n",
      "('/inworld/tts_dataset/podcast_audio_combined/wavs/adam_carolla/wavs/part_1_2022_ace_awards_acs_december_15/587.wav', 65.04136267634773)\n",
      "('/inworld/tts_dataset/podcast_audio_combined/wavs/adam_carolla/wavs/tim_allen__ernie_hudson_part_2_carolla_classics/214.wav', 64.71795486168533)\n",
      "('/inworld/tts_dataset/podcast_audio_combined/wavs/adam_carolla/wavs/part_2_diana_maria_riva__news_acs_december_1/351.wav', 64.71791996267046)\n",
      "('/inworld/tts_dataset/podcast_audio_combined/wavs/adam_carolla/wavs/part_1_the_light_we_carry__tales_from_the/532.wav', 64.6386437543656)\n",
      "('/inworld/tts_dataset/podcast_audio_combined/wavs/adam_carolla/wavs/tia_carrere__michael_yo_acs_february_7/356.wav', 64.61952335035087)\n",
      "('/inworld/tts_dataset/podcast_audio_combined/wavs/adam_carolla/wavs/baltimore_schools_news_and_rotten_tomatoes_game__live_in/263.wav', 64.58546706960317)\n",
      "('/inworld/tts_dataset/podcast_audio_combined/wavs/adam_carolla/wavs/huells_jewels_with_dana_gould__adam_on_linda_ronstadt/251.wav', 64.56180562202172)\n",
      "('/inworld/tts_dataset/podcast_audio_combined/wavs/adam_carolla/wavs/more_tia_carrere__michael_yo_acs_february_7/85.wav', 64.39626266436802)\n",
      "('/inworld/tts_dataset/podcast_audio_combined/wavs/adam_carolla/wavs/carolla_classics_seth_green__iliza_schlesinger/999.wav', 64.34116026103902)\n"
     ]
    }
   ],
   "source": [
    "for x in music_files[-4000:-3990]:\n",
    "    print(x)\n"
   ]
  },
  {
   "cell_type": "code",
   "execution_count": 32,
   "metadata": {},
   "outputs": [],
   "source": [
    "human_to_music_ratio_non_zero_music = [(x[0], x[1]['Human sounds'] / x[1]['Music'], x[1]['Human sounds'], x[1]['Music']) for x in wav_file_and_label_to_energy_level if x[1]['Music'] != 0]\n"
   ]
  },
  {
   "cell_type": "code",
   "execution_count": 33,
   "metadata": {},
   "outputs": [
    {
     "data": {
      "text/plain": [
       "('/inworld/tts_dataset/podcast_audio_combined/wavs/adam_carolla/wavs/tucker_out_at_fox__don_lemon_out_at_cnn/5.wav',\n",
       " 6.340389231440749,\n",
       " 835.9910337589206,\n",
       " 131.8516897375014)"
      ]
     },
     "execution_count": 33,
     "metadata": {},
     "output_type": "execute_result"
    }
   ],
   "source": [
    "human_to_music_ratio_non_zero_music[0]"
   ]
  },
  {
   "cell_type": "code",
   "execution_count": 34,
   "metadata": {},
   "outputs": [],
   "source": [
    "human_to_music_ratio_non_zero_music.sort(key=lambda x: x[1], reverse=False)"
   ]
  },
  {
   "cell_type": "code",
   "execution_count": 35,
   "metadata": {},
   "outputs": [
    {
     "name": "stdout",
     "output_type": "stream",
     "text": [
      "('/inworld/tts_dataset/podcast_audio_combined/wavs/adam_carolla/wavs/jerry_oconnell__jo_koy_carolla_classics/505.wav',\n",
      " 0.0,\n",
      " 0.0,\n",
      " 47.52983943067222)\n",
      "('/inworld/tts_dataset/podcast_audio_combined/wavs/adam_carolla/wavs/jerry_oconnell__jo_koy_carolla_classics/508.wav',\n",
      " 0.0,\n",
      " 0.0,\n",
      " 170.26732237494645)\n",
      "('/inworld/tts_dataset/podcast_audio_combined/wavs/adam_carolla/wavs/jerry_oconnell__jo_koy_carolla_classics/563.wav',\n",
      " 0.0,\n",
      " 0.0,\n",
      " 71.68524439550173)\n",
      "('/inworld/tts_dataset/podcast_audio_combined/wavs/adam_carolla/wavs/jay_mohr_on_snl_cue_cards_and_ghost_hunters_/262.wav',\n",
      " 0.0,\n",
      " 0.0,\n",
      " 502.2785752293171)\n",
      "('/inworld/tts_dataset/podcast_audio_combined/wavs/adam_carolla/wavs/jillian_michaels_frank_grillo__remy_grillo__news_on/1148.wav',\n",
      " 0.0,\n",
      " 0.0,\n",
      " 142.14853785869275)\n",
      "('/inworld/tts_dataset/podcast_audio_combined/wavs/adam_carolla/wavs/mo_collins__frank_grillo_carolla_classics/2216.wav',\n",
      " 0.0,\n",
      " 0.0,\n",
      " 130.4912221850178)\n",
      "('/inworld/tts_dataset/podcast_audio_combined/wavs/adam_carolla/wavs/mo_collins__frank_grillo_carolla_classics/2279.wav',\n",
      " 0.0,\n",
      " 0.0,\n",
      " 41.04881052421871)\n",
      "('/inworld/tts_dataset/podcast_audio_combined/wavs/adam_carolla/wavs/mo_collins__frank_grillo_carolla_classics/2280.wav',\n",
      " 0.0,\n",
      " 0.0,\n",
      " 97.49382623526466)\n",
      "('/inworld/tts_dataset/podcast_audio_combined/wavs/adam_carolla/wavs/adam_ray_as_dr_phil__march_madness_madness_and/1002.wav',\n",
      " 0.0,\n",
      " 0.0,\n",
      " 220.89302549342977)\n",
      "('/inworld/tts_dataset/podcast_audio_combined/wavs/adam_carolla/wavs/rays_jacuzzi_water_gun__kyle_dunnigan_carolla_classics/1257.wav',\n",
      " 0.0,\n",
      " 0.0,\n",
      " 335.86556791216987)\n"
     ]
    }
   ],
   "source": [
    "for x in human_to_music_ratio_non_zero_music[:10]:\n",
    "    pprint(x)"
   ]
  },
  {
   "cell_type": "code",
   "execution_count": 36,
   "metadata": {},
   "outputs": [
    {
     "data": {
      "text/plain": [
       "43"
      ]
     },
     "execution_count": 36,
     "metadata": {},
     "output_type": "execute_result"
    }
   ],
   "source": [
    "len([x for x in wav_file_and_label_to_energy_level if x[1]['Human sounds'] == 0])"
   ]
  },
  {
   "attachments": {},
   "cell_type": "markdown",
   "metadata": {},
   "source": []
  },
  {
   "cell_type": "code",
   "execution_count": 2,
   "metadata": {},
   "outputs": [
    {
     "name": "stdout",
     "output_type": "stream",
     "text": [
      "Number of wav files: 101543\n",
      "Total duration in folder: 2.08 seconds, 0.0005777777777777778 hours\n",
      "Number of errors: 0\n",
      "Total duration in folder: 4591.139024943309 seconds, 1.275316395817586 hours\n",
      "Number of errors: 0\n",
      "Total duration in folder: 9716.09791383221 seconds, 2.698916087175614 hours\n",
      "Number of errors: 0\n",
      "Total duration in folder: 15036.794240362795 seconds, 4.176887288989665 hours\n",
      "Number of errors: 0\n",
      "Total duration in folder: 20837.967301587265 seconds, 5.788324250440907 hours\n",
      "Number of errors: 0\n",
      "Total duration in folder: 27027.93823129247 seconds, 7.507760619803464 hours\n",
      "Number of errors: 0\n",
      "Total duration in folder: 32905.20512471655 seconds, 9.140334756865709 hours\n",
      "Number of errors: 0\n",
      "Total duration in folder: 38542.03993197282 seconds, 10.706122203325782 hours\n",
      "Number of errors: 0\n",
      "Total duration in folder: 44761.14566893428 seconds, 12.433651574703967 hours\n",
      "Number of errors: 0\n",
      "Total duration in folder: 50036.84546485274 seconds, 13.899123740236872 hours\n",
      "Number of errors: 0\n",
      "Total duration in folder: 55730.256235827845 seconds, 15.480626732174402 hours\n",
      "Number of errors: 0\n",
      "Total duration in folder: 61361.70766439929 seconds, 17.04491879566647 hours\n",
      "Number of errors: 0\n",
      "Total duration in folder: 66706.52857142883 seconds, 18.52959126984134 hours\n",
      "Number of errors: 0\n",
      "Total duration in folder: 71892.68006802737 seconds, 19.97018890778538 hours\n",
      "Number of errors: 0\n",
      "Total duration in folder: 76995.24167800492 seconds, 21.387567132779147 hours\n",
      "Number of errors: 0\n",
      "Total duration in folder: 81325.85888888958 seconds, 22.590516358024882 hours\n",
      "Number of errors: 0\n",
      "Total duration in folder: 86521.76337868551 seconds, 24.033823160745975 hours\n",
      "Number of errors: 0\n",
      "Total duration in folder: 91773.08115646335 seconds, 25.49252254346204 hours\n",
      "Number of errors: 0\n",
      "Total duration in folder: 97123.91027210963 seconds, 26.978863964474897 hours\n",
      "Number of errors: 0\n",
      "Total duration in folder: 101806.83634920695 seconds, 28.279676763668597 hours\n",
      "Number of errors: 0\n",
      "Total duration in folder: 106788.07054421805 seconds, 29.663352928949458 hours\n",
      "Number of errors: 0\n",
      "Total duration in folder: 112312.24927437682 seconds, 31.197847020660227 hours\n",
      "Number of errors: 0\n",
      "Total duration in folder: 117531.09589569198 seconds, 32.647526637692216 hours\n",
      "Number of errors: 0\n",
      "Total duration in folder: 124382.61165532924 seconds, 34.55072545981368 hours\n",
      "Number of errors: 0\n",
      "Total duration in folder: 129602.53448979658 seconds, 36.000704024943495 hours\n",
      "Number of errors: 0\n",
      "Total duration in folder: 134540.1453287981 seconds, 37.372262591332806 hours\n",
      "Number of errors: 0\n",
      "Total duration in folder: 140687.54031746037 seconds, 39.07987231040566 hours\n",
      "Number of errors: 0\n",
      "Total duration in folder: 145841.8268480725 seconds, 40.51161856890903 hours\n",
      "Number of errors: 0\n",
      "Total duration in folder: 151752.22664399032 seconds, 42.15339628999731 hours\n",
      "Number of errors: 0\n",
      "Total duration in folder: 157001.63115646213 seconds, 43.611564210128364 hours\n",
      "Number of errors: 0\n",
      "Total duration in folder: 162860.21623582748 seconds, 45.23894895439652 hours\n",
      "Number of errors: 0\n",
      "Total duration in folder: 168115.78993197228 seconds, 46.69883053665897 hours\n",
      "Number of errors: 0\n",
      "Total duration in folder: 174166.41464852588 seconds, 48.37955962459053 hours\n",
      "Number of errors: 0\n",
      "Total duration in folder: 180251.86224489778 seconds, 50.06996173469383 hours\n",
      "Number of errors: 0\n",
      "Total duration in folder: 185297.9689115641 seconds, 51.47165803099003 hours\n",
      "Number of errors: 0\n",
      "Total duration in folder: 190784.60303854835 seconds, 52.99572306626343 hours\n",
      "Number of errors: 0\n",
      "Total duration in folder: 196087.75054421715 seconds, 54.46881959561588 hours\n",
      "Number of errors: 0\n",
      "Total duration in folder: 201225.48922902445 seconds, 55.895969230284564 hours\n",
      "Number of errors: 0\n",
      "Total duration in folder: 206740.636349206 seconds, 57.42795454144611 hours\n",
      "Number of errors: 0\n",
      "Total duration in folder: 211565.79555555497 seconds, 58.768276543209716 hours\n",
      "Number of errors: 0\n",
      "Total duration in folder: 216566.59276643934 seconds, 60.15738687956648 hours\n",
      "Number of errors: 0\n",
      "Total duration in folder: 222530.17040816284 seconds, 61.81393622448968 hours\n",
      "Number of errors: 0\n",
      "Total duration in folder: 227913.57179138288 seconds, 63.30932549760635 hours\n",
      "Number of errors: 0\n",
      "Total duration in folder: 233253.7107936507 seconds, 64.79269744268075 hours\n",
      "Number of errors: 0\n",
      "Total duration in folder: 238690.61147392285 seconds, 66.30294763164524 hours\n",
      "Number of errors: 0\n",
      "Total duration in folder: 243836.99297052124 seconds, 67.732498047367 hours\n",
      "Number of errors: 0\n",
      "Total duration in folder: 248812.23621315134 seconds, 69.1145100592087 hours\n",
      "Number of errors: 0\n",
      "Total duration in folder: 254322.9203628114 seconds, 70.6452556563365 hours\n",
      "Number of errors: 0\n",
      "Total duration in folder: 260220.82301587285 seconds, 72.28356194885356 hours\n",
      "Number of errors: 0\n",
      "Total duration in folder: 266177.01739229035 seconds, 73.93806038674732 hours\n",
      "Number of errors: 0\n",
      "Total duration in folder: 271736.94727891125 seconds, 75.48248535525313 hours\n",
      "Number of errors: 0\n",
      "Total duration in folder: 277621.9753741485 seconds, 77.11721538170792 hours\n",
      "Number of errors: 0\n",
      "Total duration in folder: 282763.9656689333 seconds, 78.54554601914813 hours\n",
      "Number of errors: 0\n",
      "Total duration in folder: 287756.60095237935 seconds, 79.9323891534387 hours\n",
      "Number of errors: 0\n",
      "Total duration in folder: 293515.21111110784 seconds, 81.53200308641884 hours\n",
      "Number of errors: 0\n",
      "Total duration in folder: 298661.77646258206 seconds, 82.96160457293946 hours\n",
      "Number of errors: 0\n",
      "Total duration in folder: 304646.76970521244 seconds, 84.62410269589235 hours\n",
      "Number of errors: 0\n",
      "Total duration in folder: 310699.7353741463 seconds, 86.30548204837397 hours\n",
      "Number of errors: 0\n",
      "Total duration in folder: 316108.06213151605 seconds, 87.80779503653224 hours\n",
      "Number of errors: 0\n",
      "Total duration in folder: 321195.9970294752 seconds, 89.22111028596534 hours\n",
      "Number of errors: 0\n",
      "Total duration in folder: 326926.6334240329 seconds, 90.81295372889802 hours\n",
      "Number of errors: 0\n",
      "Total duration in folder: 333209.66961450904 seconds, 92.55824155958585 hours\n",
      "Number of errors: 0\n",
      "Total duration in folder: 339253.03410430555 seconds, 94.23695391786265 hours\n",
      "Number of errors: 0\n",
      "Total duration in folder: 344318.0828344641 seconds, 95.64391189846225 hours\n",
      "Number of errors: 0\n",
      "Total duration in folder: 351001.4488662096 seconds, 97.500402462836 hours\n",
      "Number of errors: 0\n",
      "Total duration in folder: 356591.4574829894 seconds, 99.05318263416372 hours\n",
      "Number of errors: 0\n",
      "Total duration in folder: 361790.6029478425 seconds, 100.49738970773403 hours\n",
      "Number of errors: 0\n",
      "Total duration in folder: 367337.50149659533 seconds, 102.03819486016536 hours\n",
      "Number of errors: 0\n",
      "Total duration in folder: 372385.49201813666 seconds, 103.4404144494824 hours\n",
      "Number of errors: 0\n",
      "Total duration in folder: 378180.1275963683 seconds, 105.05003544343565 hours\n",
      "Number of errors: 0\n",
      "Total duration in folder: 383187.2368253937 seconds, 106.44089911816491 hours\n",
      "Number of errors: 0\n",
      "Total duration in folder: 388475.7477324235 seconds, 107.90992992567318 hours\n",
      "Number of errors: 0\n",
      "Total duration in folder: 393850.26353741094 seconds, 109.40285098261415 hours\n",
      "Number of errors: 0\n",
      "Total duration in folder: 398481.1172562316 seconds, 110.68919923784212 hours\n",
      "Number of errors: 0\n",
      "Total duration in folder: 403215.5459183625 seconds, 112.00431831065626 hours\n",
      "Number of errors: 0\n",
      "Total duration in folder: 408089.35356008605 seconds, 113.35815376669056 hours\n",
      "Number of errors: 0\n",
      "Total duration in folder: 413670.6477550973 seconds, 114.90851326530482 hours\n",
      "Number of errors: 0\n",
      "Total duration in folder: 419517.29188208224 seconds, 116.53258107835617 hours\n",
      "Number of errors: 0\n",
      "Total duration in folder: 425005.11673468974 seconds, 118.05697687074715 hours\n",
      "Number of errors: 0\n",
      "Total duration in folder: 430182.6503174569 seconds, 119.49518064373802 hours\n",
      "Number of errors: 0\n",
      "Total duration in folder: 435418.84648525674 seconds, 120.94967957923798 hours\n",
      "Number of errors: 0\n",
      "Total duration in folder: 440669.32430838625 seconds, 122.4081456412184 hours\n",
      "Number of errors: 0\n",
      "Total duration in folder: 445225.72975056333 seconds, 123.67381381960094 hours\n",
      "Number of errors: 0\n",
      "Total duration in folder: 450844.09412698174 seconds, 125.23447059082827 hours\n",
      "Number of errors: 0\n",
      "Total duration in folder: 456249.84823129035 seconds, 126.73606895313621 hours\n",
      "Number of errors: 0\n",
      "Total duration in folder: 461653.07054421655 seconds, 128.23696404006014 hours\n",
      "Number of errors: 0\n",
      "Total duration in folder: 467384.41648525925 seconds, 129.82900457923867 hours\n",
      "Number of errors: 0\n",
      "Total duration in folder: 472741.13045351335 seconds, 131.31698068153148 hours\n",
      "Number of errors: 0\n",
      "Total duration in folder: 479058.1128344654 seconds, 133.0716980095737 hours\n",
      "Number of errors: 0\n",
      "Total duration in folder: 484478.55972788983 seconds, 134.57737770219163 hours\n",
      "Number of errors: 0\n",
      "Total duration in folder: 489242.3163265295 seconds, 135.90064342403596 hours\n",
      "Number of errors: 0\n",
      "Total duration in folder: 494669.359705215 seconds, 137.40815547367083 hours\n",
      "Number of errors: 0\n",
      "Total duration in folder: 499677.41256235784 seconds, 138.79928126732162 hours\n",
      "Number of errors: 0\n",
      "Total duration in folder: 504566.7738321988 seconds, 140.1574371756108 hours\n",
      "Number of errors: 0\n",
      "Total duration in folder: 510035.5929251695 seconds, 141.6765535903249 hours\n",
      "Number of errors: 0\n",
      "Total duration in folder: 515739.7415646246 seconds, 143.26103932350682 hours\n",
      "Number of errors: 0\n",
      "Total duration in folder: 522124.5983900208 seconds, 145.03461066389465 hours\n",
      "Number of errors: 0\n",
      "Total duration in folder: 527299.2465759618 seconds, 146.47201293776715 hours\n",
      "Number of errors: 0\n",
      "Total duration in folder: 533307.6892063479 seconds, 148.14102477954108 hours\n",
      "Number of errors: 0\n",
      "Total duration in folder: 538728.3057596368 seconds, 149.64675159989912 hours\n",
      "Number of errors: 0\n",
      "Total duration in folder: 543962.8297052159 seconds, 151.10078602922664 hours\n",
      "Number of errors: 0\n",
      "Total duration in folder: 549074.2492970538 seconds, 152.52062480473717 hours\n",
      "Number of errors: 0\n",
      "Total duration in folder: 552275.3763945581 seconds, 153.40982677626613 hours\n",
      "Number of errors: 0\n"
     ]
    }
   ],
   "source": [
    "from glob import glob\n",
    "import soundfile as sf\n",
    "\n",
    "# Get total duration of all files in a folder\n",
    "ROOT_AUDIO_DIRECTORY = \"/inworld/tts_dataset/podcast_audio_combined/wavs\"\n",
    "SPEAKER_NAME = \"alec_baldwin\"\n",
    "\n",
    "audio_directory = os.path.join(ROOT_AUDIO_DIRECTORY, SPEAKER_NAME)\n",
    "wav_files = glob(f\"{audio_directory}/**/*.wav\", recursive=True)\n",
    "\n",
    "total_duration = 0\n",
    "num_errors = 0\n",
    "\n",
    "print(f\"Number of wav files: {len(wav_files)}\")\n",
    "\n",
    "for i, f in enumerate(wav_files):\n",
    "# for i, f in enumerate(tqdm(wav_files)):\n",
    "    try:\n",
    "        duration = sf.info(f).duration\n",
    "        total_duration += duration\n",
    "    except:\n",
    "        num_errors += 1\n",
    "    \n",
    "    if i % 10000 == 0:\n",
    "        print(i)\n",
    "        print(f\"Total duration in folder: {total_duration} seconds, {total_duration / 60 / 60} hours\")\n",
    "        print(f\"Number of errors: {num_errors}\")\n",
    "\n",
    "\n",
    "print(f\"Total duration in folder: {total_duration} seconds, {total_duration / 60 / 60} hours\")\n",
    "print(f\"Number of errors: {num_errors}\")"
   ]
  },
  {
   "cell_type": "code",
   "execution_count": null,
   "metadata": {},
   "outputs": [],
   "source": []
  }
 ],
 "metadata": {
  "kernelspec": {
   "display_name": "uss",
   "language": "python",
   "name": "python3"
  },
  "language_info": {
   "codemirror_mode": {
    "name": "ipython",
    "version": 3
   },
   "file_extension": ".py",
   "mimetype": "text/x-python",
   "name": "python",
   "nbconvert_exporter": "python",
   "pygments_lexer": "ipython3",
   "version": "3.8.17"
  },
  "orig_nbformat": 4
 },
 "nbformat": 4,
 "nbformat_minor": 2
}
